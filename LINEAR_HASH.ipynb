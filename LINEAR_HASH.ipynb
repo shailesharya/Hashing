{
  "nbformat": 4,
  "nbformat_minor": 0,
  "metadata": {
    "colab": {
      "name": "LINEAR HASH 2.0",
      "provenance": []
    },
    "kernelspec": {
      "name": "python3",
      "display_name": "Python 3"
    }
  },
  "cells": [
    {
      "cell_type": "code",
      "metadata": {
        "colab": {
          "base_uri": "https://localhost:8080/"
        },
        "id": "xJuYypYPPgeK",
        "outputId": "db443f8b-680d-4b15-80a7-b39e9a7d5098"
      },
      "source": [
        "lf = 0.7\n",
        "def hash1(value):\n",
        "  return value % 4\n",
        "\n",
        "def hash2(value):\n",
        "  return value % 8\n",
        "\n",
        "#Linear Hash Function Base\n",
        "linear_hash = [[] for _ in range(4)] \n",
        "print(linear_hash)\n",
        "s=0\n",
        "\n",
        "def display():\n",
        "  for i in range(len(linear_hash)):\n",
        "    for j in range(len(linear_hash[i])):\n",
        "      if (linear_hash[i][j] == 0):\n",
        "        continue\n",
        "      else:\n",
        "        print(str(i) + \"-> \"+ \"\\t\", end = '')\n",
        "        \n",
        "        print(str(linear_hash[i][j] )+ \"\\t\")\n",
        " \n",
        "def Hashing(keyvalue): \n",
        "    return keyvalue % 4\n",
        "\n",
        "def Hashing1(keyvalue): \n",
        "    return keyvalue % 8\n",
        "\n",
        "def load_Factor(linear_hash):\n",
        "  '''count  = sum(len(row) for row in linear_hash)\n",
        "  load = count / 8'''\n",
        "  count = 0\n",
        "  for i in range(len(linear_hash)):\n",
        "    for j in range(len(linear_hash[i])):\n",
        "      if linear_hash[i][j] > 0:\n",
        "        count = count + 1\n",
        "        #print(linear_hash[i])\n",
        "  load = count / (len(linear_hash) * 2)\n",
        "  print(load)\n",
        "  return load\n",
        "\n",
        "def insert(linear_hash, keyvalue): \n",
        "    global s\n",
        "    i=0\n",
        "    hash_key = Hashing(keyvalue)\n",
        "    linear_hash[hash_key].append(keyvalue) \n",
        "    lf = load_Factor(linear_hash)\n",
        "    print(\"load \", lf)\n",
        "    if(lf > 0.7):\n",
        "      linear_hash.append([0,0])\n",
        "      temp = linear_hash[s]\n",
        "      linear_hash[s] = [0,0]\n",
        "      for ele in temp:\n",
        "        hash = Hashing1(ele)\n",
        "        linear_hash[hash].append(ele) \n",
        "        i = i+1\n",
        "      s = s+1\n",
        "    display()\n",
        "\n",
        "\n"
      ],
      "execution_count": null,
      "outputs": [
        {
          "output_type": "stream",
          "text": [
            "[[], [], [], []]\n"
          ],
          "name": "stdout"
        }
      ]
    },
    {
      "cell_type": "code",
      "metadata": {
        "colab": {
          "base_uri": "https://localhost:8080/"
        },
        "id": "10IXCwlRPn7b",
        "outputId": "99f88ffd-3032-4388-9908-f62010792a54"
      },
      "source": [
        "1\n",
        "while(1):\n",
        "  print(\"Enter Your Choice:\")\n",
        "  print(\"1 - > Insert\")\n",
        "  print(\"0 - > Exit\")\n",
        "  ch = int(input())\n",
        "  if (ch == int(0)):\n",
        "    break\n",
        "  else:\n",
        "    print(\"Enter Value:\")\n",
        "    keyvalue = int(input())\n",
        "    insert(linear_hash, keyvalue)"
      ],
      "execution_count": null,
      "outputs": [
        {
          "output_type": "stream",
          "text": [
            "Enter Your Choice:\n",
            "1 - > Insert\n",
            "0 - > Exit\n",
            "1\n",
            "Enter Value:\n",
            "3\n",
            "0.125\n",
            "load  0.125\n",
            "3-> \t3\t\n",
            "Enter Your Choice:\n",
            "1 - > Insert\n",
            "0 - > Exit\n",
            "1\n",
            "Enter Value:\n",
            "2\n",
            "0.25\n",
            "load  0.25\n",
            "2-> \t2\t\n",
            "3-> \t3\t\n",
            "Enter Your Choice:\n",
            "1 - > Insert\n",
            "0 - > Exit\n",
            "1\n",
            "Enter Value:\n",
            "4\n",
            "0.375\n",
            "load  0.375\n",
            "0-> \t4\t\n",
            "2-> \t2\t\n",
            "3-> \t3\t\n",
            "Enter Your Choice:\n",
            "1 - > Insert\n",
            "0 - > Exit\n",
            "1\n",
            "Enter Value:\n",
            "1\n",
            "0.5\n",
            "load  0.5\n",
            "0-> \t4\t\n",
            "1-> \t1\t\n",
            "2-> \t2\t\n",
            "3-> \t3\t\n",
            "Enter Your Choice:\n",
            "1 - > Insert\n",
            "0 - > Exit\n",
            "1\n",
            "Enter Value:\n",
            "8\n",
            "0.625\n",
            "load  0.625\n",
            "0-> \t4\t\n",
            "0-> \t8\t\n",
            "1-> \t1\t\n",
            "2-> \t2\t\n",
            "3-> \t3\t\n",
            "Enter Your Choice:\n",
            "1 - > Insert\n",
            "0 - > Exit\n",
            "1\n",
            "Enter Value:\n",
            "14\n",
            "0.75\n",
            "load  0.75\n",
            "0-> \t8\t\n",
            "1-> \t1\t\n",
            "2-> \t2\t\n",
            "2-> \t14\t\n",
            "3-> \t3\t\n",
            "4-> \t4\t\n",
            "Enter Your Choice:\n",
            "1 - > Insert\n",
            "0 - > Exit\n",
            "1\n",
            "Enter Value:\n",
            "5\n",
            "0.7\n",
            "load  0.7\n",
            "0-> \t8\t\n",
            "1-> \t1\t\n",
            "1-> \t5\t\n",
            "2-> \t2\t\n",
            "2-> \t14\t\n",
            "3-> \t3\t\n",
            "4-> \t4\t\n",
            "Enter Your Choice:\n",
            "1 - > Insert\n",
            "0 - > Exit\n",
            "1\n",
            "Enter Value:\n",
            "10\n",
            "0.8\n",
            "load  0.8\n",
            "0-> \t8\t\n",
            "1-> \t1\t\n",
            "2-> \t2\t\n",
            "2-> \t14\t\n",
            "2-> \t10\t\n",
            "3-> \t3\t\n",
            "4-> \t4\t\n",
            "5-> \t5\t\n",
            "Enter Your Choice:\n",
            "1 - > Insert\n",
            "0 - > Exit\n",
            "1\n",
            "Enter Value:\n",
            "7\n",
            "0.75\n",
            "load  0.75\n",
            "0-> \t8\t\n",
            "1-> \t1\t\n",
            "2-> \t2\t\n",
            "2-> \t10\t\n",
            "3-> \t3\t\n",
            "3-> \t7\t\n",
            "4-> \t4\t\n",
            "5-> \t5\t\n",
            "6-> \t14\t\n",
            "Enter Your Choice:\n",
            "1 - > Insert\n",
            "0 - > Exit\n",
            "1\n",
            "Enter Value:\n",
            "12\n",
            "0.7142857142857143\n",
            "load  0.7142857142857143\n",
            "0-> \t8\t\n",
            "0-> \t12\t\n",
            "1-> \t1\t\n",
            "2-> \t2\t\n",
            "2-> \t10\t\n",
            "3-> \t3\t\n",
            "4-> \t4\t\n",
            "5-> \t5\t\n",
            "6-> \t14\t\n",
            "7-> \t7\t\n",
            "Enter Your Choice:\n",
            "1 - > Insert\n",
            "0 - > Exit\n",
            "0\n"
          ],
          "name": "stdout"
        }
      ]
    },
    {
      "cell_type": "code",
      "metadata": {
        "id": "oxwBebUvPq0M",
        "colab": {
          "base_uri": "https://localhost:8080/"
        },
        "outputId": "1091dcbd-8026-4f3a-9c98-91aaee74fed2"
      },
      "source": [
        "8111617"
      ],
      "execution_count": null,
      "outputs": [
        {
          "output_type": "execute_result",
          "data": {
            "text/plain": [
              "11617"
            ]
          },
          "metadata": {
            "tags": []
          },
          "execution_count": 5
        }
      ]
    },
    {
      "cell_type": "code",
      "metadata": {
        "id": "0_jxmSA636sY"
      },
      "source": [
        ""
      ],
      "execution_count": null,
      "outputs": []
    }
  ]
}